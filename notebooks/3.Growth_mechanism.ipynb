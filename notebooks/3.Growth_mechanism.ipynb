version https://git-lfs.github.com/spec/v1
oid sha256:8892a4a2b7c03e16d166871764a9e8ddbab2a0fc40af77dc5f7e1eadcfa7badd
size 13723681
