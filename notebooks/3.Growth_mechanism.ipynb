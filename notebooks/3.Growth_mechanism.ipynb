version https://git-lfs.github.com/spec/v1
oid sha256:02b837cbcd5cde5f1faa3db70331e05c6cbcea0187aa73a64248c2d1fa8eaf89
size 13729818
