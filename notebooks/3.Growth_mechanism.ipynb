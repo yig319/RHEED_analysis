version https://git-lfs.github.com/spec/v1
oid sha256:b0f4f241713714e8f5b953b950eb0ec615375861fb49b4790fc496d930f59331
size 13805154
