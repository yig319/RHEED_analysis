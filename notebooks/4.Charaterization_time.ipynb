version https://git-lfs.github.com/spec/v1
oid sha256:e344fa599b0d45728c4c0db16f5cf007357ee65e8990533fafccff883381f2a9
size 68751184
